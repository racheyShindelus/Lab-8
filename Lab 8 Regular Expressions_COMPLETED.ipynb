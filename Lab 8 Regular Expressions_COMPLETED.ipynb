{
 "cells": [
  {
   "cell_type": "markdown",
   "metadata": {},
   "source": [
    "# Lab 8: Regular Expressions\n",
    "In this lab assignment you will be practicing constructing regular expressions. First you will try your hand at some basic regular expressions in order to match words and numbers in a text file. Then you’ll try some more complex regular expressions in \"real\" situations.\n",
    "\n",
    "For all of the exercises, you will use only the basic regular expressions (BRE) discussed in class. The only symbols you can use are:\n",
    "\n",
    "    *     Zero or more\n",
    "    +     One or more\n",
    "    ?     Zero or one / Optional\n",
    "    [X-Y] One character out the range X to Y\n",
    "    .     Any one character\n",
    "    |     Or\n",
    "    ( )   Grouping\n",
    "    { }   Repetition\n",
    "    \\.    Dot\n",
    "    \\$    Dollar sign\n",
    "    \\     Escape any other special character\n",
    "\n",
    "Some common regular expression patterns are:\n",
    "\n",
    "    [0-9]     Any one digit\n",
    "    [0-9]+    One or more digits\n",
    "    [a-zA-Z]  Any one letter (upper or lower case)\n",
    "    [a-z]{3}  Three lower case letters\n",
    "    -?[0-9]+  A number with an optional negative sign\n",
    "    .*        Any number of any characters (including no characters at all)\n",
    "    \n",
    "## How to Do This Assignment\n",
    "\n",
    "Before starting, upload the four text files for this assignment:\n",
    "\n",
    "* contacts.txt\n",
    "* program.txt\n",
    "* perl.txt\n",
    "* weblog.txt\n",
    "\n",
    "In each problem function you'll see the string TODO. Replace TODO with the regular expression needed to do each problem.\n",
    "\n",
    "There are no automated checks for your solutions; please eyeball them yourself to visually verify the output."
   ]
  },
  {
   "cell_type": "code",
   "execution_count": 1,
   "metadata": {},
   "outputs": [],
   "source": [
    "# Run this cell to define the function you'll need for the rest of the assignment.\n",
    "#WRITTEN FOR US_EXECUTE ONLY\n",
    "from re import finditer\n",
    "\n",
    "# Return an array of strings that match the given\n",
    "# regular expression\n",
    "def extract(regexp, fname):\n",
    "    matches = []\n",
    "    with open(fname) as f:\n",
    "        for line in f:\n",
    "            for match in finditer(regexp, line):\n",
    "                matches.append(match.group())\n",
    "    f.close()\n",
    "    return matches"
   ]
  },
  {
   "cell_type": "markdown",
   "metadata": {},
   "source": [
    "# Words and Numbers\n",
    "Take a look at the file named **contacts.txt**. It’s a list of fake names and addresses.\n",
    "\n",
    "## Problem 1\n",
    "Extract all numbers in the text. Numbers are simply one or more consecutive digits. It's OK if the numbers that get extracted are in the middle of email addresses.\n",
    "\n",
    "**Check:** The first few numbers should be **1116, 42, 02919, 401, 783, 9567, 5361, 40108, ...**"
   ]
  },
  {
   "cell_type": "code",
   "execution_count": 4,
   "metadata": {},
   "outputs": [
    {
     "data": {
      "text/plain": [
       "['1116',\n",
       " '42',\n",
       " '02919',\n",
       " '401',\n",
       " '783',\n",
       " '9567',\n",
       " '5361',\n",
       " '40108',\n",
       " '3837',\n",
       " '502',\n",
       " '269',\n",
       " '4969',\n",
       " '9088',\n",
       " '5',\n",
       " '33912',\n",
       " '1923',\n",
       " '305',\n",
       " '636',\n",
       " '5462',\n",
       " '7320',\n",
       " '03907',\n",
       " '207',\n",
       " '457',\n",
       " '6646',\n",
       " '4293',\n",
       " '425',\n",
       " '83342',\n",
       " '208',\n",
       " '860',\n",
       " '6627',\n",
       " '5245',\n",
       " '736',\n",
       " '95652',\n",
       " '0736',\n",
       " '719',\n",
       " '332',\n",
       " '4698',\n",
       " '5331',\n",
       " '26412',\n",
       " '3383',\n",
       " '304',\n",
       " '388',\n",
       " '6503',\n",
       " '2',\n",
       " '839',\n",
       " '357',\n",
       " '19301',\n",
       " '34',\n",
       " '741',\n",
       " '96014',\n",
       " '720',\n",
       " '523',\n",
       " '0191',\n",
       " '681',\n",
       " '30188',\n",
       " '404',\n",
       " '564',\n",
       " '5544',\n",
       " '303',\n",
       " '20012',\n",
       " '1118',\n",
       " '202',\n",
       " '467',\n",
       " '3939',\n",
       " '695',\n",
       " '852',\n",
       " '59469',\n",
       " '0027',\n",
       " '50',\n",
       " '915',\n",
       " '72036',\n",
       " '501',\n",
       " '745',\n",
       " '9171',\n",
       " '47',\n",
       " '686',\n",
       " '95117',\n",
       " '4431',\n",
       " '719',\n",
       " '678',\n",
       " '1479',\n",
       " '2675',\n",
       " '019',\n",
       " '58231',\n",
       " '3992',\n",
       " '701',\n",
       " '146',\n",
       " '2174',\n",
       " '2168',\n",
       " '124',\n",
       " '30216',\n",
       " '228',\n",
       " '769',\n",
       " '7043']"
      ]
     },
     "execution_count": 4,
     "metadata": {},
     "output_type": "execute_result"
    }
   ],
   "source": [
    "extract(r'[0-9]+', \"contacts.txt\")"
   ]
  },
  {
   "cell_type": "markdown",
   "metadata": {},
   "source": [
    "## Problem 2\n",
    "Extract all words in the text. Words are composed of one or more letters (upper and lower case). Words can be parts of email addresses, too.\n",
    "\n",
    "**Check:** The first few words are **Chong, Merrih, Unit, G, Cranston, RI, merrihchong, gmail, com, ...**"
   ]
  },
  {
   "cell_type": "code",
   "execution_count": 7,
   "metadata": {},
   "outputs": [
    {
     "data": {
      "text/plain": [
       "['Chong',\n",
       " 'Merrih',\n",
       " 'Unit',\n",
       " 'Cranston',\n",
       " 'RI',\n",
       " 'merrihchong',\n",
       " 'gmail',\n",
       " 'com',\n",
       " 'Verona',\n",
       " 'McRome',\n",
       " 'Leanna',\n",
       " 'Crescent',\n",
       " 'Brandenburg',\n",
       " 'KY',\n",
       " 'verona',\n",
       " 'brandenburg',\n",
       " 'ci',\n",
       " 'ky',\n",
       " 'us',\n",
       " 'Eunice',\n",
       " 'Hausladen',\n",
       " 'Hangar',\n",
       " 'Fort',\n",
       " 'Myers',\n",
       " 'FL',\n",
       " 'eunice',\n",
       " 'yahoo',\n",
       " 'com',\n",
       " 'Cristie',\n",
       " 'Coblentz',\n",
       " 'Terrell',\n",
       " 'Shores',\n",
       " 'Ogunquit',\n",
       " 'ME',\n",
       " 'ccobl',\n",
       " 'bbc',\n",
       " 'co',\n",
       " 'uk',\n",
       " 'Brendon',\n",
       " 'Wiederwax',\n",
       " 'Jerald',\n",
       " 'Street',\n",
       " 'Apt',\n",
       " 'Naf',\n",
       " 'ID',\n",
       " 'brendon',\n",
       " 'snarky',\n",
       " 'me',\n",
       " 'Amie',\n",
       " 'Taibl',\n",
       " 'Khalil',\n",
       " 'Drive',\n",
       " 'McClellan',\n",
       " 'Afb',\n",
       " 'CA',\n",
       " 'taibl',\n",
       " 'hotmail',\n",
       " 'com',\n",
       " 'Rosette',\n",
       " 'Bierkortte',\n",
       " 'Margarett',\n",
       " 'Groves',\n",
       " 'Orlando',\n",
       " 'WV',\n",
       " 'rbier',\n",
       " 'psolutions',\n",
       " 'com',\n",
       " 'William',\n",
       " 'Veeser',\n",
       " 'Remington',\n",
       " 'Well',\n",
       " 'Suite',\n",
       " 'Paoli',\n",
       " 'PA',\n",
       " 'veeser',\n",
       " 'yahoo',\n",
       " 'com',\n",
       " 'Corrine',\n",
       " 'Officer',\n",
       " 'Bergnaum',\n",
       " 'Valley',\n",
       " 'Callahan',\n",
       " 'CA',\n",
       " 'officer',\n",
       " 'gmail',\n",
       " 'com',\n",
       " 'Dan',\n",
       " 'Layer',\n",
       " 'Alek',\n",
       " 'Glen',\n",
       " 'Woodstock',\n",
       " 'GA',\n",
       " 'dan',\n",
       " 'layer',\n",
       " 'and',\n",
       " 'cabinets',\n",
       " 'com',\n",
       " 'Gregoria',\n",
       " 'Wodskow',\n",
       " 'Waelchi',\n",
       " 'Drives',\n",
       " 'Washington',\n",
       " 'DC',\n",
       " 'knitting',\n",
       " 'lady',\n",
       " 'gmail',\n",
       " 'com',\n",
       " 'Xavier',\n",
       " 'Lindy',\n",
       " 'Kuphal',\n",
       " 'Creek',\n",
       " 'Raynesford',\n",
       " 'MT',\n",
       " 'Morgan',\n",
       " 'Mccumbers',\n",
       " 'Leffler',\n",
       " 'Bridge',\n",
       " 'Cotton',\n",
       " 'Plant',\n",
       " 'AR',\n",
       " 'Wes',\n",
       " 'Shorkey',\n",
       " 'McClure',\n",
       " 'Shoals',\n",
       " 'Apt',\n",
       " 'San',\n",
       " 'Jose',\n",
       " 'CA',\n",
       " 'wes',\n",
       " 'wes',\n",
       " 'corp',\n",
       " 'yahoo',\n",
       " 'com',\n",
       " 'Wayne',\n",
       " 'Calco',\n",
       " 'Streich',\n",
       " 'Mount',\n",
       " 'Apt',\n",
       " 'Fordville',\n",
       " 'ND',\n",
       " 'Reina',\n",
       " 'Laughridge',\n",
       " 'Emmerich',\n",
       " 'Loop',\n",
       " 'Suite',\n",
       " 'Flovilla',\n",
       " 'GA']"
      ]
     },
     "execution_count": 7,
     "metadata": {},
     "output_type": "execute_result"
    }
   ],
   "source": [
    "extract(r'[a-zA-Z][a-zA-Z]+', \"contacts.txt\")"
   ]
  },
  {
   "cell_type": "markdown",
   "metadata": {},
   "source": [
    "## Problem 3\n",
    "Extract all five- and nine-digit ZIP codes. Keep in mind that nine-digit zip codes have a hyphen in them.\n",
    "\n",
    "**Check:** The first few ZIP codes are **02919, 40108-3837, 33912-1923, 03907, ...**"
   ]
  },
  {
   "cell_type": "code",
   "execution_count": 8,
   "metadata": {},
   "outputs": [
    {
     "data": {
      "text/plain": [
       "['02919',\n",
       " '40108-3837',\n",
       " '33912-1923',\n",
       " '03907',\n",
       " '83342',\n",
       " '95652-0736',\n",
       " '26412-3383',\n",
       " '19301',\n",
       " '96014',\n",
       " '30188',\n",
       " '20012-1118',\n",
       " '59469-0027',\n",
       " '72036',\n",
       " '95117-4431',\n",
       " '58231-3992',\n",
       " '30216']"
      ]
     },
     "execution_count": 8,
     "metadata": {},
     "output_type": "execute_result"
    }
   ],
   "source": [
    "extract(r'\\b\\d{5}(?:-\\d{4})?\\b', \"contacts.txt\")"
   ]
  },
  {
   "cell_type": "markdown",
   "metadata": {},
   "source": [
    "## Problem 4\n",
    "Extract all email addresses. For our purposes, an email address is a *username*, followed by an @ symbol, followed by the *hostname*.  \n",
    "The username consists of one or more letters, numbers, dots, dashes, and underscores.  \n",
    "The hostname consists of one or more letters, numbers, dots, and dashes.\n",
    "\n",
    "**Check:** Here are the first few email address: `merrihchong@gmail.com`, `verona@brandenburg.ci.ky.us`, `eunice_h@yahoo.com`, `ccobl@bbc.co.uk`, `brendon@snarky.me`, `taibl@hotmail.com`"
   ]
  },
  {
   "cell_type": "code",
   "execution_count": 9,
   "metadata": {},
   "outputs": [
    {
     "data": {
      "text/plain": [
       "['merrihchong@gmail.com',\n",
       " 'verona@brandenburg.ci.ky.us',\n",
       " 'eunice_h@yahoo.com',\n",
       " 'ccobl@bbc.co.uk',\n",
       " 'brendon@snarky.me',\n",
       " 'taibl@hotmail.com',\n",
       " 'rbier@p2psolutions.com',\n",
       " 'veeser34@yahoo.com',\n",
       " 'officer.c@gmail.com',\n",
       " 'dan.layer@r-and-r-cabinets.com',\n",
       " 'knitting.lady@gmail.com',\n",
       " 'wes_wes@corp.yahoo.com']"
      ]
     },
     "execution_count": 9,
     "metadata": {},
     "output_type": "execute_result"
    }
   ],
   "source": [
    "extract(r'[a-zA-Z0-9\\.\\-_]+@[a-zA-Z0-9\\.\\-]+', \"contacts.txt\")"
   ]
  },
  {
   "cell_type": "markdown",
   "metadata": {},
   "source": [
    "# Tokenizing\n",
    "\n",
    "Take a look at **program.txt**. This is a simple computer program from a non-existent programming language. In this language, keywords are uppercase and everything else is lowercase.\n",
    "\n",
    "*Tokenizing* is the phase of compilation that identifies the parts of the program in preparation for the parser. The lexer needs to scan through the source code, locate the tokens, and tag them as such. Here, you will write regular expressions (one per problem) to find various things to be tokenized.\n",
    "\n",
    "## Problem 5\n",
    "Extract all the *numbers* in the program. Keep in mind they could be a decimal amount and may be negative.\n",
    "\n",
    "**Check:** Here are the numbers you should find: 1.8, 32, -2.547, 7, 20.0"
   ]
  },
  {
   "cell_type": "code",
   "execution_count": 14,
   "metadata": {},
   "outputs": [
    {
     "data": {
      "text/plain": [
       "['1.8', '32', '-2.547', '7', '20.0']"
      ]
     },
     "execution_count": 14,
     "metadata": {},
     "output_type": "execute_result"
    }
   ],
   "source": [
    "extract(r'-?\\b-?[0-9]+(?:\\.[0-9]+)?\\b', \"program.txt\")"
   ]
  },
  {
   "cell_type": "markdown",
   "metadata": {},
   "source": [
    "## Problem 6\n",
    "Extract all the *identifiers*. Identifiers are the names that programmers give to things, such as variables, function names, etc. In this programming language, they are composed of lowercase letters.\n",
    "\n",
    "The identifiers in the program are: **project, x, y, age, convert, temp, zip, foo,** ..."
   ]
  },
  {
   "cell_type": "code",
   "execution_count": 15,
   "metadata": {},
   "outputs": [
    {
     "data": {
      "text/plain": [
       "['project',\n",
       " 'x',\n",
       " 'y',\n",
       " 'age',\n",
       " 'convert',\n",
       " 'temp',\n",
       " 'zip',\n",
       " 'temp',\n",
       " 'foo',\n",
       " 'zip',\n",
       " 'kipper',\n",
       " 'foo',\n",
       " 'kipper',\n",
       " 'age',\n",
       " 'x',\n",
       " 'age',\n",
       " 'x',\n",
       " 'y',\n",
       " 'x',\n",
       " 'convert',\n",
       " 'x',\n",
       " 'y',\n",
       " 'convert',\n",
       " 'x',\n",
       " 'y']"
      ]
     },
     "execution_count": 15,
     "metadata": {},
     "output_type": "execute_result"
    }
   ],
   "source": [
    "extract(r'\\b[a-z]+\\b', \"program.txt\")"
   ]
  },
  {
   "cell_type": "markdown",
   "metadata": {},
   "source": [
    "# Tokenizing a Real Language\n",
    "\n",
    "The next file is **perl.txt**. This is a real program written in the Perl programming language. It reads in a comma-separated file (CSV) in which each line is a student’s last name, first name, and ID number. It converts each line into an array containing the username, password, first name, and last name — enough information to make user accounts on a server.\n",
    "\n",
    "## Problem 7\n",
    "Extract the *variables*. In Perl, variables begin with a $ or @ symbol. The next character can be a letter or underscore. The rest of the variable name can be letters, digits, or underscores. In Perl, @_ is a valid variable, too!\n",
    "\n",
    "In this program, some of the variables are: `$lname`, `$fname`, `$sid`, `$LIST_SEP`, `@line`, `$first4`, `$full_name`, `@_`, `$password`, ..."
   ]
  },
  {
   "cell_type": "code",
   "execution_count": 25,
   "metadata": {},
   "outputs": [
    {
     "data": {
      "text/plain": [
       "['$lname',\n",
       " '$fname',\n",
       " '$sid',\n",
       " '$LIST_SEP',\n",
       " '@line',\n",
       " '@line',\n",
       " '$fname',\n",
       " '$lname',\n",
       " '@line',\n",
       " '$fname',\n",
       " '$lname',\n",
       " '$sid',\n",
       " '@line',\n",
       " '$fname',\n",
       " '@line',\n",
       " '$lname',\n",
       " '@line',\n",
       " '$fname',\n",
       " '$lname',\n",
       " '@_',\n",
       " '$fname',\n",
       " '$lname',\n",
       " '$fname',\n",
       " '$lname',\n",
       " '$sid',\n",
       " '@_',\n",
       " '$full_name',\n",
       " '$lname',\n",
       " '$fname',\n",
       " '$first4',\n",
       " '$full_name',\n",
       " '$password',\n",
       " '$first4',\n",
       " '$sid',\n",
       " '$password']"
      ]
     },
     "execution_count": 25,
     "metadata": {},
     "output_type": "execute_result"
    }
   ],
   "source": [
    "extract(r'\\$[a-zA-Z_][a-zA-Z0-9_]*|\\@[a-zA-Z_][a-zA-Z0-9_]*', \"perl.txt\")"
   ]
  },
  {
   "cell_type": "markdown",
   "metadata": {},
   "source": [
    "## Problem 8\n",
    "Extract the *comments*. Comments begin with a # symbol and continue to the end of the line. They can contain any number of any characters, including none.\n",
    "\n",
    "Some examples from the program:\n",
    "\n",
    "    #! /usr/bin/perl\n",
    "    # Convert CSV file with student info into a file\n",
    "    # that can be used to make accounts.\n",
    "    #\n",
    "    # Output is username, password, first name, last name\n",
    "    # Change array element separator to comma\n",
    "    # Print the whole array\n",
    "    # Return first initial, last name, all lower case"
   ]
  },
  {
   "cell_type": "code",
   "execution_count": 37,
   "metadata": {},
   "outputs": [
    {
     "data": {
      "text/plain": [
       "['#! /usr/bin/perl',\n",
       " '# Convert CSV file with student info into a file',\n",
       " '# that can be used to make accounts.',\n",
       " '#',\n",
       " '# Output is username, password, first name, last name',\n",
       " '# Change array element separator to comma',\n",
       " '# Print the whole array',\n",
       " '# Return first initial, last name, all lower case',\n",
       " '# Make password out of first name, last name, and student ID.',\n",
       " '# Concatenate last name and first name. Convert to lower case.',\n",
       " '# Truncate to 4 chars.',\n",
       " '# Append last 4 digits of student ID']"
      ]
     },
     "execution_count": 37,
     "metadata": {},
     "output_type": "execute_result"
    }
   ],
   "source": [
    "extract(r'#.*?(?=\\n|$)', \"perl.txt\")"
   ]
  },
  {
   "cell_type": "markdown",
   "metadata": {},
   "source": [
    "# Web Server Log Files\n",
    "\n",
    "Web servers log every request that comes in. A request is an individual document, such as an HTML file, an image, a JavaScript program, CSS file, and so forth. The last file, **weblog.txt**, contains a portion of a typical log file containing, among other data points:\n",
    "\n",
    "* the IP address of the web browser\n",
    "* the date/time of the request\n",
    "* the file requested, status code\n",
    "* the file size\n",
    "\n",
    "## Problem 9\n",
    "Extract the IP addresses. IP addresses are four numbers separated by dots. Remember that a dot is a special character, so you may need to *escape* it by using a backslash: `\\.`"
   ]
  },
  {
   "cell_type": "code",
   "execution_count": 51,
   "metadata": {},
   "outputs": [
    {
     "data": {
      "text/plain": [
       "['128.242.249.12',\n",
       " '64.78.116.124',\n",
       " '105.12.94.91',\n",
       " '180.76.5.156',\n",
       " '174.50.148.8',\n",
       " '208.115.111.75',\n",
       " '199.21.99.72',\n",
       " '208.115.113.91',\n",
       " '71.142.241.232',\n",
       " '76.246.40.237',\n",
       " '76.246.63.198',\n",
       " '199.21.99.72',\n",
       " '76.246.63.198']"
      ]
     },
     "execution_count": 51,
     "metadata": {},
     "output_type": "execute_result"
    }
   ],
   "source": [
    "extract(r'\\b(?:\\d{1,3}\\.){3}\\d{1,3}\\b', \"weblog.txt\")"
   ]
  },
  {
   "cell_type": "markdown",
   "metadata": {},
   "source": [
    "## Problem 10\n",
    "Extract the dates and times, which look like this: **06/May/2019:03:45:36**"
   ]
  },
  {
   "cell_type": "code",
   "execution_count": 64,
   "metadata": {},
   "outputs": [
    {
     "data": {
      "text/plain": [
       "['30/Jan/2019:19:23:31',\n",
       " '02/Feb/2019:03:45:37',\n",
       " '02/Feb/2019:04:32:22',\n",
       " '16/Feb/2019:15:29:19',\n",
       " '21/Feb/2019:20:05:44',\n",
       " '06/Mar/2019:17:14:32',\n",
       " '08/Mar/2019:08:16:21',\n",
       " '29/Mar/2019:11:08:42',\n",
       " '10/Apr/2019:22:48:09',\n",
       " '15/Apr/2019:08:32:30',\n",
       " '04/May/2019:10:37:30',\n",
       " '06/May/2019:02:16:55',\n",
       " '06/May/2019:11:25:32']"
      ]
     },
     "execution_count": 64,
     "metadata": {},
     "output_type": "execute_result"
    }
   ],
   "source": [
    "extract(r'\\b\\d{2}/[a-zA-Z]+/\\d{4}:\\d{2}:\\d{2}:\\d{2}\\b', \"weblog.txt\")"
   ]
  },
  {
   "cell_type": "markdown",
   "metadata": {},
   "source": [
    "## Problem 11\n",
    "Extract the image filenames. Images end with **.jpg** or **.png**. Filename can contains letters, numbers, and underscores.\n",
    "\n",
    "Just extract the filename, not the whole path. For example, we want **header.jpg**, but not **/sites/all/themes/litejazz/js/header.jpg**.\n",
    "\n",
    "You should get: header.jpg, greetings_art.jpg, backgnd.jpg, footer2.png"
   ]
  },
  {
   "cell_type": "code",
   "execution_count": 78,
   "metadata": {},
   "outputs": [
    {
     "data": {
      "text/plain": [
       "['header.jpg', 'greetings_art.jpg', 'backgnd.jpg', 'footer2.png']"
      ]
     },
     "execution_count": 78,
     "metadata": {},
     "output_type": "execute_result"
    }
   ],
   "source": [
    "extract(r'(?<=/)[\\w\\d_]+\\.(?:jpg|png)\\b', \"weblog.txt\")"
   ]
  }
 ],
 "metadata": {
  "kernelspec": {
   "display_name": "Python 3 (ipykernel)",
   "language": "python",
   "name": "python3"
  },
  "language_info": {
   "codemirror_mode": {
    "name": "ipython",
    "version": 3
   },
   "file_extension": ".py",
   "mimetype": "text/x-python",
   "name": "python",
   "nbconvert_exporter": "python",
   "pygments_lexer": "ipython3",
   "version": "3.9.7"
  }
 },
 "nbformat": 4,
 "nbformat_minor": 4
}
