{
 "cells": [
  {
   "cell_type": "markdown",
   "metadata": {},
   "source": [
    "# Lab 8: Regular Expressions\n",
    "In this lab assignment you will be practicing constructing regular expressions. First you will try your hand at some basic regular expressions in order to match words and numbers in a text file. Then you’ll try some more complex regular expressions in \"real\" situations.\n",
    "\n",
    "For all of the exercises, you will use only the basic regular expressions (BRE) discussed in class. The only symbols you can use are:\n",
    "\n",
    "    *     Zero or more\n",
    "    +     One or more\n",
    "    ?     Zero or one / Optional\n",
    "    [X-Y] One character out the range X to Y\n",
    "    .     Any one character\n",
    "    |     Or\n",
    "    ( )   Grouping\n",
    "    { }   Repetition\n",
    "    \\.    Dot\n",
    "    \\$    Dollar sign\n",
    "    \\     Escape any other special character\n",
    "\n",
    "Some common regular expression patterns are:\n",
    "\n",
    "    [0-9]     Any one digit\n",
    "    [0-9]+    One or more digits\n",
    "    [a-zA-Z]  Any one letter (upper or lower case)\n",
    "    [a-z]{3}  Three lower case letters\n",
    "    -?[0-9]+  A number with an optional negative sign\n",
    "    .*        Any number of any characters (including no characters at all)\n",
    "    \n",
    "## How to Do This Assignment\n",
    "\n",
    "Before starting, upload the four text files for this assignment:\n",
    "\n",
    "* contacts.txt\n",
    "* program.txt\n",
    "* perl.txt\n",
    "* weblog.txt\n",
    "\n",
    "In each problem function you'll see the string TODO. Replace TODO with the regular expression needed to do each problem.\n",
    "\n",
    "There are no automated checks for your solutions; please eyeball them yourself to visually verify the output."
   ]
  },
  {
   "cell_type": "code",
   "execution_count": null,
   "metadata": {},
   "outputs": [],
   "source": [
    "# Run this cell to define the function you'll need for the rest of the assignment.\n",
    "\n",
    "from re import finditer\n",
    "\n",
    "# Return an array of strings that match the given\n",
    "# regular expression\n",
    "def extract(regexp, fname):\n",
    "    matches = []\n",
    "    with open(fname) as f:\n",
    "        for line in f:\n",
    "            for match in finditer(regexp, line):\n",
    "                matches.append(match.group())\n",
    "    f.close()\n",
    "    return matches"
   ]
  },
  {
   "cell_type": "markdown",
   "metadata": {},
   "source": [
    "# Words and Numbers\n",
    "Take a look at the file named **contacts.txt**. It’s a list of fake names and addresses.\n",
    "\n",
    "## Problem 1\n",
    "Extract all numbers in the text. Numbers are simply one or more consecutive digits. It's OK if the numbers that get extracted are in the middle of email addresses.\n",
    "\n",
    "**Check:** The first few numbers should be **1116, 42, 02919, 401, 783, 9567, 5361, 40108, ...**"
   ]
  },
  {
   "cell_type": "code",
   "execution_count": null,
   "metadata": {},
   "outputs": [],
   "source": [
    "extract(r'TODO', \"contacts.txt\")"
   ]
  },
  {
   "cell_type": "markdown",
   "metadata": {},
   "source": [
    "## Problem 2\n",
    "Extract all words in the text. Words are composed of one or more letters (upper and lower case). Words can be parts of email addresses, too.\n",
    "\n",
    "**Check:** The first few words are **Chong, Merrih, Unit, G, Cranston, RI, merrihchong, gmail, com, ...**"
   ]
  },
  {
   "cell_type": "code",
   "execution_count": null,
   "metadata": {},
   "outputs": [],
   "source": [
    "extract(r'TODO', \"contacts.txt\")"
   ]
  },
  {
   "cell_type": "markdown",
   "metadata": {},
   "source": [
    "## Problem 3\n",
    "Extract all five- and nine-digit ZIP codes. Keep in mind that nine-digit zip codes have a hyphen in them.\n",
    "\n",
    "**Check:** The first few ZIP codes are **02919, 40108-3837, 33912-1923, 03907, ...**"
   ]
  },
  {
   "cell_type": "code",
   "execution_count": null,
   "metadata": {},
   "outputs": [],
   "source": [
    "extract(r'TODO', \"contacts.txt\")"
   ]
  },
  {
   "cell_type": "markdown",
   "metadata": {},
   "source": [
    "## Problem 4\n",
    "Extract all email addresses. For our purposes, an email address is a *username*, followed by an @ symbol, followed by the *hostname*.  \n",
    "The username consists of one or more letters, numbers, dots, dashes, and underscores.  \n",
    "The hostname consists of one or more letters, numbers, dots, and dashes.\n",
    "\n",
    "**Check:** Here are the first few email address: `merrihchong@gmail.com`, `verona@brandenburg.ci.ky.us`, `eunice_h@yahoo.com`, `ccobl@bbc.co.uk`, `brendon@snarky.me`, `taibl@hotmail.com`"
   ]
  },
  {
   "cell_type": "code",
   "execution_count": null,
   "metadata": {},
   "outputs": [],
   "source": [
    "extract(r'TODO', \"contacts.txt\")"
   ]
  },
  {
   "cell_type": "markdown",
   "metadata": {},
   "source": [
    "# Tokenizing\n",
    "\n",
    "Take a look at **program.txt**. This is a simple computer program from a non-existent programming language. In this language, keywords are uppercase and everything else is lowercase.\n",
    "\n",
    "*Tokenizing* is the phase of compilation that identifies the parts of the program in preparation for the parser. The lexer needs to scan through the source code, locate the tokens, and tag them as such. Here, you will write regular expressions (one per problem) to find various things to be tokenized.\n",
    "\n",
    "## Problem 5\n",
    "Extract all the *numbers* in the program. Keep in mind they could be a decimal amount and may be negative.\n",
    "\n",
    "**Check:** Here are the numbers you should find: 1.8, 32, -2.547, 7, 20.0"
   ]
  },
  {
   "cell_type": "code",
   "execution_count": null,
   "metadata": {},
   "outputs": [],
   "source": [
    "extract(r'TODO', \"program.txt\")"
   ]
  },
  {
   "cell_type": "markdown",
   "metadata": {},
   "source": [
    "## Problem 6\n",
    "Extract all the *identifiers*. Identifiers are the names that programmers give to things, such as variables, function names, etc. In this programming language, they are composed of lowercase letters.\n",
    "\n",
    "The identifiers in the program are: **project, x, y, age, convert, temp, zip, foo,** ..."
   ]
  },
  {
   "cell_type": "code",
   "execution_count": null,
   "metadata": {},
   "outputs": [],
   "source": [
    "extract(r'TODO', \"program.txt\")"
   ]
  },
  {
   "cell_type": "markdown",
   "metadata": {},
   "source": [
    "# Tokenizing a Real Language\n",
    "\n",
    "The next file is **perl.txt**. This is a real program written in the Perl programming language. It reads in a comma-separated file (CSV) in which each line is a student’s last name, first name, and ID number. It converts each line into an array containing the username, password, first name, and last name — enough information to make user accounts on a server.\n",
    "\n",
    "## Problem 7\n",
    "Extract the *variables*. In Perl, variables begin with a $ or @ symbol. The next character can be a letter or underscore. The rest of the variable name can be letters, digits, or underscores. In Perl, @_ is a valid variable, too!\n",
    "\n",
    "In this program, some of the variables are: `$lname`, `$fname`, `$sid`, `$LIST_SEP`, `@line`, `$first4`, `$full_name`, `@_`, `$password`, ..."
   ]
  },
  {
   "cell_type": "code",
   "execution_count": null,
   "metadata": {},
   "outputs": [],
   "source": [
    "extract(r'TODO', \"perl.txt\")"
   ]
  },
  {
   "cell_type": "markdown",
   "metadata": {},
   "source": [
    "## Problem 8\n",
    "Extract the *comments*. Comments begin with a # symbol and continue to the end of the line. They can contain any number of any characters, including none.\n",
    "\n",
    "Some examples from the program:\n",
    "\n",
    "    #! /usr/bin/perl\n",
    "    # Convert CSV file with student info into a file\n",
    "    # that can be used to make accounts.\n",
    "    #\n",
    "    # Output is username, password, first name, last name\n",
    "    # Change array element separator to comma\n",
    "    # Print the whole array\n",
    "    # Return first initial, last name, all lower case"
   ]
  },
  {
   "cell_type": "code",
   "execution_count": null,
   "metadata": {},
   "outputs": [],
   "source": [
    "extract(r'TODO', \"perl.txt\")"
   ]
  },
  {
   "cell_type": "markdown",
   "metadata": {},
   "source": [
    "# Web Server Log Files\n",
    "\n",
    "Web servers log every request that comes in. A request is an individual document, such as an HTML file, an image, a JavaScript program, CSS file, and so forth. The last file, **weblog.txt**, contains a portion of a typical log file containing, among other data points:\n",
    "\n",
    "* the IP address of the web browser\n",
    "* the date/time of the request\n",
    "* the file requested, status code\n",
    "* the file size\n",
    "\n",
    "## Problem 9\n",
    "Extract the IP addresses. IP addresses are four numbers separated by dots. Remember that a dot is a special character, so you may need to *escape* it by using a backslash: `\\.`"
   ]
  },
  {
   "cell_type": "code",
   "execution_count": null,
   "metadata": {},
   "outputs": [],
   "source": [
    "extract(r'TODO', \"weblog.txt\")"
   ]
  },
  {
   "cell_type": "markdown",
   "metadata": {},
   "source": [
    "## Problem 10\n",
    "Extract the dates and times, which look like this: **06/May/2019:03:45:36**"
   ]
  },
  {
   "cell_type": "code",
   "execution_count": null,
   "metadata": {},
   "outputs": [],
   "source": [
    "extract(r'TODO', \"weblog.txt\")"
   ]
  },
  {
   "cell_type": "markdown",
   "metadata": {},
   "source": [
    "## Problem 11\n",
    "Extract the image filenames. Images end with **.jpg** or **.png**. Filename can contains letters, numbers, and underscores.\n",
    "\n",
    "Just extract the filename, not the whole path. For example, we want **header.jpg**, but not **/sites/all/themes/litejazz/js/header.jpg**.\n",
    "\n",
    "You should get: header.jpg, greetings_art.jpg, backgnd.jpg, footer2.png"
   ]
  },
  {
   "cell_type": "code",
   "execution_count": null,
   "metadata": {},
   "outputs": [],
   "source": [
    "extract(r'TODO', \"weblog.txt\")"
   ]
  }
 ],
 "metadata": {
  "kernelspec": {
   "display_name": "Python 3",
   "language": "python",
   "name": "python3"
  },
  "language_info": {
   "codemirror_mode": {
    "name": "ipython",
    "version": 3
   },
   "file_extension": ".py",
   "mimetype": "text/x-python",
   "name": "python",
   "nbconvert_exporter": "python",
   "pygments_lexer": "ipython3",
   "version": "3.7.7"
  }
 },
 "nbformat": 4,
 "nbformat_minor": 4
}
